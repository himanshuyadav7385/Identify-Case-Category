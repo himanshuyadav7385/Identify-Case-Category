{
 "cells": [
  {
   "cell_type": "markdown",
   "id": "3170110b-5abb-47fe-923a-84accff8ae4a",
   "metadata": {},
   "source": [
    "# Use Text Classification to Indentify case category\n",
    "\n",
    "## **Executive summary**\n",
    "\n",
    "### **Project overview and goals**\n",
    "The goal of this project is to build a robust machine learning model to automate the categorization of support cases. This model will analyze the text fields, specifically the \"Short Description\" and \"Description,\" of a case and assign it to the correct category for routing to the appropriate support queue. The categorization hierarchy consists of two levels:\n",
    "\n",
    "- **Level 1 (Parent Categories):** \"Incident\" and \"Service Request.\"\n",
    "- **Level 2 (Child Categories):** Subcategories under each parent category:\n",
    "    - **Incident:** \"Platform Issue\" and \"Integration Issue.\"\n",
    "    - **Service Request:** \"User Help\" and \"User Access.\"\n",
    "\n",
    "The model employs a two-step binary classification approach:\n",
    "1) **Parent Category Classification:** Determines whether a case belongs to \"Incident\" or \"Service Request.\"\n",
    "2) **Child Category Classification:** Assigns one of the four child categories based on the parent category.\n",
    "\n",
    "To achieve this, we evaluate and tune four text classification algorithms: **Logistic Regression, Support Vector Machine (SVM), Decision Tree,** and **Naive Bayes.** Key performance metrics include **Accuracy, Precision, Recall,** and **F1-Score,** with a particular emphasis on **Recall** to minimize the risk of misclassifying incidents, where timely response is critical.\n",
    "\n",
    "### **Usage** \n",
    "This project addresses a real-world problem faced by support teams. I lead four support teams managing distinct areas of expertise, and this model will be integrated into a chatbot that assists users in raising tickets by directing their queries to the appropriate support queue. The chatbot will:\n",
    "\n",
    " - Parse user inputs about issues or questions.\n",
    " - Automatically categorize and assign cases to the correct team, reducing delays in issue resolution.\n",
    "   \n",
    "Future iterations of the project aim to enhance the system by identifying similar past tickets and sharing their resolutions with support engineers, enabling quicker problem resolution.\n",
    "\n",
    "### **Data and Testing**\n",
    "The project leverages two years of historical support case data, with \"Short Description\" and \"Description\" fields serving as the primary input features. Each case is tagged with corresponding Parent Tags and Child New Tags columns, which serve as ground truth labels for training and validation. The model's performance will also be tested on unseen data from the last two months, ensuring its effectiveness in real-world scenarios.\n"
   ]
  },
  {
   "cell_type": "markdown",
   "id": "52709af7-fab5-4f98-9fe5-bd5c1d0fd2f0",
   "metadata": {},
   "source": [
    "### **Lets Start**"
   ]
  },
  {
   "cell_type": "markdown",
   "id": "7ea99a65-7b11-4ea0-8ae1-1e56dd569585",
   "metadata": {},
   "source": [
    "### **Load Data**\n",
    "Lets load the data from the file containing two year cases. "
   ]
  },
  {
   "cell_type": "code",
   "execution_count": 94,
   "id": "1bef7068-8898-4c8c-9a8d-1bb97d635d8e",
   "metadata": {},
   "outputs": [
    {
     "name": "stdout",
     "output_type": "stream",
     "text": [
      "<class 'pandas.core.frame.DataFrame'>\n",
      "RangeIndex: 1850 entries, 0 to 1849\n",
      "Data columns (total 6 columns):\n",
      " #   Column                   Non-Null Count  Dtype \n",
      "---  ------                   --------------  ----- \n",
      " 0   Short description        1850 non-null   object\n",
      " 1   Description              1849 non-null   object\n",
      " 2   Close notes              1822 non-null   object\n",
      " 3   Comments and Work notes  1847 non-null   object\n",
      " 4   Child New Tags           1850 non-null   object\n",
      " 5   Parent Tags              1819 non-null   object\n",
      "dtypes: object(6)\n",
      "memory usage: 86.8+ KB\n"
     ]
    },
    {
     "data": {
      "text/plain": [
       "(                                   Short description  \\\n",
       " 0  MyTech Business Application Support: gehc edel...   \n",
       " 1  MyTech Business Application Support: gehc edel...   \n",
       " 2  MyTech Business Application Support: gehc edel...   \n",
       " 3                                    User Management   \n",
       " 4                Not able to download files from FFA   \n",
       " \n",
       "                                          Description  \\\n",
       " 0  1) What is the URL of the eDelivery applicatio...   \n",
       " 1  Please migrate the attached email template to ...   \n",
       " 2  1) What is the URL of the eDelivery applicatio...   \n",
       " 3  1) What is the URL of the eDelivery applicatio...   \n",
       " 4  1) What is the URL of the eDelivery applicatio...   \n",
       " \n",
       "                                          Close notes  \\\n",
       " 0  Issue: MyTech Business Application Support: ge...   \n",
       " 1  Issue: gehc edelivery | Please migrate the att...   \n",
       " 2  Issue: MyTech Business Application Support: ge...   \n",
       " 3  Issue: User Management\\nAnalysis: Need to prov...   \n",
       " 4  Issue: Not able to download files from FFA\\nAn...   \n",
       " \n",
       "                              Comments and Work notes  Child New Tags  \\\n",
       " 0  07/18/2023 10:27:30 PM - Korane, Hrishikesh (5...  platform issue   \n",
       " 1  06/23/2023 07:27:47 PM - Babu, Harish (5032768...       user help   \n",
       " 2  05/24/2023 07:47:08 PM - K, Jaheer Basha (5033...     user access   \n",
       " 3  05/15/2023 08:22:57 AM - K, Mani Simha Reddy (...     user access   \n",
       " 4  05/15/2023 09:06:39 PM - B, Vishnu Vardhan Red...  platform issue   \n",
       " \n",
       "        Parent Tags  \n",
       " 0         Incident  \n",
       " 1  Service Request  \n",
       " 2  Service Request  \n",
       " 3  Service Request  \n",
       " 4         Incident  ,\n",
       " None,\n",
       "                                  Short description Description  \\\n",
       " count                                         1850        1849   \n",
       " unique                                        1550        1834   \n",
       " top     Bounce Back Email - GLPROD Autofullfilment        test   \n",
       " freq                                            52           3   \n",
       " \n",
       "                                               Close notes  \\\n",
       " count                                                1822   \n",
       " unique                                               1723   \n",
       " top     Issue : Bounce Back Email - GLPROD Autofullfil...   \n",
       " freq                                                   32   \n",
       " \n",
       "                                   Comments and Work notes Child New Tags  \\\n",
       " count                                                1847           1850   \n",
       " unique                                               1844              5   \n",
       " top     06/28/2023 12:08:57 AM - SNowEventMgmt, Servic...      user help   \n",
       " freq                                                    2            717   \n",
       " \n",
       "             Parent Tags  \n",
       " count              1819  \n",
       " unique                2  \n",
       " top     Service Request  \n",
       " freq               1425  )"
      ]
     },
     "execution_count": 94,
     "metadata": {},
     "output_type": "execute_result"
    }
   ],
   "source": [
    "import pandas as pd\n",
    "\n",
    "# Load the Excel file into a DataFrame\n",
    "file_path = 'Working_data2.xlsx'\n",
    "data = pd.read_excel(file_path)\n",
    "\n",
    "# Display the first few rows and summarize the data\n",
    "data.head(), data.info(), data.describe(include='all')"
   ]
  },
  {
   "cell_type": "markdown",
   "id": "5b98997b-0ec1-45c6-9076-aad0fbbd2f9c",
   "metadata": {},
   "source": []
  },
  {
   "cell_type": "code",
   "execution_count": null,
   "id": "189148e9-5644-4420-be8a-fc8e0a53e27e",
   "metadata": {},
   "outputs": [],
   "source": [
    "\n"
   ]
  },
  {
   "cell_type": "markdown",
   "id": "c8609e13-ef95-41cf-b364-38168f22bff7",
   "metadata": {},
   "source": [
    "### **Data Preprocessing**\n",
    "- We will be uusing Short description and description and comments columns as inputs.\n",
    "- Perform basic text cleanup like lower case and remove stop words. \n",
    "- Vectorize the combined text using TF-IDF Vectorizer\n",
    "\n",
    "#### NER\n",
    "We will remove person names as they are irrelevant . Want to keep other name like names of application as they will help in case categorization. \n",
    "Using **Spacy** for this."
   ]
  },
  {
   "cell_type": "code",
   "execution_count": 95,
   "id": "44a66bff-7e7b-4119-9660-8271f027d785",
   "metadata": {},
   "outputs": [
    {
     "name": "stdout",
     "output_type": "stream",
     "text": [
      "Shape of vectorized text data: (1850, 12620)\n"
     ]
    }
   ],
   "source": [
    "import spacy\n",
    "from sklearn.feature_extraction.text import TfidfVectorizer\n",
    "import pandas as pd\n",
    "\n",
    "# Load spaCy English tokenizer\n",
    "nlp = spacy.load('en_core_web_sm')\n",
    "\n",
    "# Function to remove person names using spaCy's NER\n",
    "def remove_person_names(text):\n",
    "    doc = nlp(text)\n",
    "    return \" \".join([token.text for token in doc if token.ent_type_ != 'PERSON'])\n",
    "\n",
    "\n",
    "\n",
    "# Combine text fields\n",
    "data['combined_text'] = data['Short description'].fillna('') + ' ' + data['Description'].fillna('') + ' ' + data['Comments and Work notes'].fillna('')\n",
    "\n",
    "# Clean and remove person names\n",
    "data['combined_text'] = data['combined_text'].apply(lambda x: x.lower())  # Convert to lower case\n",
    "data['combined_text'] = data['combined_text'].apply(lambda x: remove_person_names(x))\n",
    "data['combined_text'] = data['combined_text'].str.replace('[^\\w\\s]', '', regex=True)  # Remove punctuation\n",
    "data['combined_text'] = data['combined_text'].str.replace('\\d+', '', regex=True)  # Remove digits\n",
    "\n",
    "# Initialize TF-IDF Vectorizer\n",
    "tfidf_vectorizer = TfidfVectorizer()\n",
    "\n",
    "# Vectorize the combined text\n",
    "X = tfidf_vectorizer.fit_transform(data['combined_text'])\n",
    "y = data['Parent Tags']  # Target variable\n",
    "\n",
    "# Output the shape of X to confirm the vectorization\n",
    "print(\"Shape of vectorized text data:\", X.shape)\n"
   ]
  },
  {
   "cell_type": "markdown",
   "id": "bea7079a-f931-4b3c-89ff-6989281e1c7f",
   "metadata": {},
   "source": [
    "Remove 0 or nans from y"
   ]
  },
  {
   "cell_type": "code",
   "execution_count": 96,
   "id": "416c61bd-a888-4176-a346-94bd2d5c33bf",
   "metadata": {},
   "outputs": [
    {
     "name": "stdout",
     "output_type": "stream",
     "text": [
      "Initial shape of target 'y': (1850,)\n",
      "Filtered shape of target 'y': (1819,)\n",
      "Filtered shape of features 'X': (1819, 12620)\n"
     ]
    }
   ],
   "source": [
    "import pandas as pd\n",
    "\n",
    "\n",
    "# Check initial condition\n",
    "print(\"Initial shape of target 'y':\", y.shape)\n",
    "\n",
    "# Create a mask where y is not '0' and not NaN\n",
    "mask = (y != 0) & (y.notna())\n",
    "\n",
    "# Apply this mask to both X and y\n",
    "X_filtered = X[mask]\n",
    "y_filtered = y[mask]\n",
    "\n",
    "# Check the shapes after filtering\n",
    "print(\"Filtered shape of target 'y':\", y_filtered.shape)\n",
    "print(\"Filtered shape of features 'X':\", X_filtered.shape)"
   ]
  },
  {
   "cell_type": "markdown",
   "id": "0d9a3636-7fba-4112-8f62-a95e8788d5d3",
   "metadata": {},
   "source": [
    "### Split data\n",
    "split data into test and train stes."
   ]
  },
  {
   "cell_type": "code",
   "execution_count": 97,
   "id": "9398e8d7-78e5-4eec-87fb-873001a59a4c",
   "metadata": {},
   "outputs": [
    {
     "name": "stdout",
     "output_type": "stream",
     "text": [
      "Training set shape: (1455, 12620)\n",
      "Test set shape: (364, 12620)\n"
     ]
    }
   ],
   "source": [
    "from sklearn.model_selection import train_test_split\n",
    "\n",
    "# Split the filtered data\n",
    "X_train, X_test, y_train, y_test = train_test_split(X_filtered, y_filtered, test_size=0.2, random_state=42)\n",
    "\n",
    "\n",
    "# Output the shapes of the training and test sets to confirm the split\n",
    "print(\"Training set shape:\", X_train.shape)\n",
    "print(\"Test set shape:\", X_test.shape)\n"
   ]
  },
  {
   "cell_type": "markdown",
   "id": "8337d191-fcfc-4458-a3e1-07329110597e",
   "metadata": {},
   "source": [
    "verify data distribution"
   ]
  },
  {
   "cell_type": "code",
   "execution_count": 98,
   "id": "7a9b17a5-46ab-44eb-ab8d-e5931318849c",
   "metadata": {},
   "outputs": [
    {
     "name": "stdout",
     "output_type": "stream",
     "text": [
      "Training set class distribution:\n",
      "Parent Tags\n",
      "Service Request    0.789691\n",
      "Incident           0.210309\n",
      "Name: proportion, dtype: float64\n",
      "Test set class distribution:\n",
      "Parent Tags\n",
      "Service Request    0.758242\n",
      "Incident           0.241758\n",
      "Name: proportion, dtype: float64\n"
     ]
    }
   ],
   "source": [
    "# Check the distribution of classes in the training and test sets\n",
    "print(\"Training set class distribution:\")\n",
    "print(y_train.value_counts(normalize=True))\n",
    "\n",
    "print(\"Test set class distribution:\")\n",
    "print(y_test.value_counts(normalize=True))\n"
   ]
  },
  {
   "cell_type": "markdown",
   "id": "47e2748c-e37d-4126-87fa-7abb7758d878",
   "metadata": {},
   "source": [
    "#### Lets apply all algorithms one by one with default values"
   ]
  },
  {
   "cell_type": "markdown",
   "id": "3ef9dc57-e0b4-4bd4-b1b4-01ffe7e92eac",
   "metadata": {},
   "source": [
    "##### Logistic regression"
   ]
  },
  {
   "cell_type": "code",
   "execution_count": 99,
   "id": "7df1a76f-67a8-453d-a885-22eefc8c86dd",
   "metadata": {},
   "outputs": [
    {
     "name": "stdout",
     "output_type": "stream",
     "text": [
      "Logistic Regression Classification Report:\n",
      "                 precision    recall  f1-score   support\n",
      "\n",
      "       Incident       0.90      0.10      0.18        88\n",
      "Service Request       0.78      1.00      0.87       276\n",
      "\n",
      "       accuracy                           0.78       364\n",
      "      macro avg       0.84      0.55      0.53       364\n",
      "   weighted avg       0.81      0.78      0.71       364\n",
      "\n"
     ]
    }
   ],
   "source": [
    "from sklearn.linear_model import LogisticRegression\n",
    "from sklearn.metrics import classification_report\n",
    "\n",
    "# Initialize and train the Logistic Regression model\n",
    "log_reg = LogisticRegression(random_state=42)\n",
    "log_reg.fit(X_train, y_train)\n",
    "\n",
    "# Make predictions and evaluate the model\n",
    "log_reg_preds = log_reg.predict(X_test)\n",
    "print(\"Logistic Regression Classification Report:\")\n",
    "print(classification_report(y_test, log_reg_preds))"
   ]
  },
  {
   "cell_type": "markdown",
   "id": "8fbba8ff-8463-458f-8357-4648c5761183",
   "metadata": {},
   "source": [
    "##### Support Vector Machine (SVM)"
   ]
  },
  {
   "cell_type": "code",
   "execution_count": 100,
   "id": "0c6f6415-6b07-413a-9d54-3e9f22419d72",
   "metadata": {},
   "outputs": [
    {
     "name": "stdout",
     "output_type": "stream",
     "text": [
      "SVM Classification Report:\n",
      "                 precision    recall  f1-score   support\n",
      "\n",
      "       Incident       0.74      0.16      0.26        88\n",
      "Service Request       0.79      0.98      0.87       276\n",
      "\n",
      "       accuracy                           0.78       364\n",
      "      macro avg       0.76      0.57      0.57       364\n",
      "   weighted avg       0.77      0.78      0.73       364\n",
      "\n"
     ]
    }
   ],
   "source": [
    "from sklearn.svm import SVC\n",
    "\n",
    "# Initialize and train the SVM model\n",
    "svm = SVC(random_state=42)\n",
    "svm.fit(X_train, y_train)\n",
    "\n",
    "# Make predictions and evaluate the model\n",
    "svm_preds = svm.predict(X_test)\n",
    "print(\"SVM Classification Report:\")\n",
    "print(classification_report(y_test, svm_preds))\n"
   ]
  },
  {
   "cell_type": "markdown",
   "id": "e5b92653-a869-4f31-903c-913aa85743d3",
   "metadata": {},
   "source": [
    "##### Naive Bayes"
   ]
  },
  {
   "cell_type": "code",
   "execution_count": 101,
   "id": "0fc959fa-0111-4580-af9d-b049e42a2cfb",
   "metadata": {},
   "outputs": [
    {
     "name": "stdout",
     "output_type": "stream",
     "text": [
      "Naive Bayes Classification Report:\n",
      "                 precision    recall  f1-score   support\n",
      "\n",
      "       Incident       0.00      0.00      0.00        88\n",
      "Service Request       0.76      1.00      0.86       276\n",
      "\n",
      "       accuracy                           0.76       364\n",
      "      macro avg       0.38      0.50      0.43       364\n",
      "   weighted avg       0.57      0.76      0.65       364\n",
      "\n"
     ]
    },
    {
     "name": "stderr",
     "output_type": "stream",
     "text": [
      "C:\\Users\\himan\\AppData\\Local\\Packages\\PythonSoftwareFoundation.Python.3.11_qbz5n2kfra8p0\\LocalCache\\local-packages\\Python311\\site-packages\\sklearn\\metrics\\_classification.py:1565: UndefinedMetricWarning: Precision is ill-defined and being set to 0.0 in labels with no predicted samples. Use `zero_division` parameter to control this behavior.\n",
      "  _warn_prf(average, modifier, f\"{metric.capitalize()} is\", len(result))\n",
      "C:\\Users\\himan\\AppData\\Local\\Packages\\PythonSoftwareFoundation.Python.3.11_qbz5n2kfra8p0\\LocalCache\\local-packages\\Python311\\site-packages\\sklearn\\metrics\\_classification.py:1565: UndefinedMetricWarning: Precision is ill-defined and being set to 0.0 in labels with no predicted samples. Use `zero_division` parameter to control this behavior.\n",
      "  _warn_prf(average, modifier, f\"{metric.capitalize()} is\", len(result))\n",
      "C:\\Users\\himan\\AppData\\Local\\Packages\\PythonSoftwareFoundation.Python.3.11_qbz5n2kfra8p0\\LocalCache\\local-packages\\Python311\\site-packages\\sklearn\\metrics\\_classification.py:1565: UndefinedMetricWarning: Precision is ill-defined and being set to 0.0 in labels with no predicted samples. Use `zero_division` parameter to control this behavior.\n",
      "  _warn_prf(average, modifier, f\"{metric.capitalize()} is\", len(result))\n"
     ]
    }
   ],
   "source": [
    "from sklearn.naive_bayes import MultinomialNB\n",
    "\n",
    "# Initialize and train the Naive Bayes model\n",
    "nb = MultinomialNB()\n",
    "nb.fit(X_train, y_train)\n",
    "\n",
    "# Make predictions and evaluate the model\n",
    "nb_preds = nb.predict(X_test)\n",
    "print(\"Naive Bayes Classification Report:\")\n",
    "print(classification_report(y_test, nb_preds))"
   ]
  },
  {
   "cell_type": "markdown",
   "id": "7164a6d3-e930-414a-bff4-fd508f33ccdf",
   "metadata": {},
   "source": [
    "##### Decision tree"
   ]
  },
  {
   "cell_type": "code",
   "execution_count": 102,
   "id": "9d3f4ea2-7b10-4aa9-83f4-347ecf3e13d3",
   "metadata": {},
   "outputs": [
    {
     "name": "stdout",
     "output_type": "stream",
     "text": [
      "Decision Tree Classification Report:\n",
      "                 precision    recall  f1-score   support\n",
      "\n",
      "       Incident       0.46      0.41      0.43        88\n",
      "Service Request       0.82      0.85      0.83       276\n",
      "\n",
      "       accuracy                           0.74       364\n",
      "      macro avg       0.64      0.63      0.63       364\n",
      "   weighted avg       0.73      0.74      0.74       364\n",
      "\n"
     ]
    }
   ],
   "source": [
    "from sklearn.tree import DecisionTreeClassifier\n",
    "\n",
    "# Initialize and train the Decision Tree model\n",
    "dt = DecisionTreeClassifier(random_state=42)\n",
    "dt.fit(X_train, y_train)\n",
    "\n",
    "# Make predictions and evaluate the model\n",
    "dt_preds = dt.predict(X_test)\n",
    "print(\"Decision Tree Classification Report:\")\n",
    "print(classification_report(y_test, dt_preds))\n"
   ]
  },
  {
   "cell_type": "markdown",
   "id": "eab7bc6c-cf56-420a-9479-ae39567334aa",
   "metadata": {},
   "source": [
    "#### Lets tune each model to get best parameters\n",
    "##### Logistic Regression Hyperparameter Tuning"
   ]
  },
  {
   "cell_type": "code",
   "execution_count": 103,
   "id": "8fc5c441-1561-4573-8694-7b42923d06b2",
   "metadata": {},
   "outputs": [
    {
     "name": "stdout",
     "output_type": "stream",
     "text": [
      "Fitting 5 folds for each of 20 candidates, totalling 100 fits\n",
      "Best parameters for Logistic Regression: {'log_reg__C': 1, 'log_reg__penalty': 'l2', 'log_reg__solver': 'saga'}\n",
      "Best cross-validation score: 0.83\n"
     ]
    }
   ],
   "source": [
    "from sklearn.pipeline import Pipeline\n",
    "from sklearn.preprocessing import StandardScaler\n",
    "from sklearn.model_selection import GridSearchCV\n",
    "from sklearn.linear_model import LogisticRegression\n",
    "\n",
    "# Define the pipeline\n",
    "pipeline = Pipeline([\n",
    "    ('scaler', StandardScaler(with_mean=False)),  # Prevent centering for sparse data\n",
    "    ('log_reg', LogisticRegression(max_iter=10000))  # Increase max_iter for convergence\n",
    "])\n",
    "\n",
    "# Define the parameter grid for Logistic Regression\n",
    "param_grid_log_reg = {\n",
    "    'log_reg__C': [0.01, 0.1, 1, 10, 100],  # Regularization strength\n",
    "    'log_reg__penalty': ['l1', 'l2'],  # L1 and L2 regularization\n",
    "    'log_reg__solver': ['liblinear', 'saga']  # Solvers that support L1 penalty\n",
    "}\n",
    "\n",
    "# Initialize the GridSearchCV object\n",
    "grid_log_reg = GridSearchCV(\n",
    "    pipeline,\n",
    "    param_grid_log_reg,\n",
    "    cv=5,\n",
    "    scoring='accuracy',\n",
    "    verbose=1\n",
    ")\n",
    "\n",
    "# Fit the grid search\n",
    "grid_log_reg.fit(X_train, y_train)\n",
    "\n",
    "# Output the best parameters and the best score\n",
    "print(\"Best parameters for Logistic Regression:\", grid_log_reg.best_params_)\n",
    "print(\"Best cross-validation score: {:.2f}\".format(grid_log_reg.best_score_))\n"
   ]
  },
  {
   "cell_type": "markdown",
   "id": "466f81d5-e0b4-41f6-89a1-5c8f424833c2",
   "metadata": {},
   "source": []
  },
  {
   "cell_type": "code",
   "execution_count": null,
   "id": "942f6e03-cc15-445d-ba90-a54c0c7e6250",
   "metadata": {},
   "outputs": [],
   "source": [
    "\n"
   ]
  },
  {
   "cell_type": "markdown",
   "id": "cdaff3e9-9d31-4a3b-b939-7dd581f1eada",
   "metadata": {},
   "source": [
    "##### Support Vector Machine (SVM) Hyperparameter Tuning"
   ]
  },
  {
   "cell_type": "code",
   "execution_count": 104,
   "id": "91ee93a3-2003-4c88-b3c1-af42d8de1390",
   "metadata": {},
   "outputs": [
    {
     "name": "stdout",
     "output_type": "stream",
     "text": [
      "Fitting 5 folds for each of 24 candidates, totalling 120 fits\n",
      "Best parameters for SVM: {'C': 10, 'gamma': 'scale', 'kernel': 'rbf'}\n",
      "Best cross-validation score: 0.83\n"
     ]
    }
   ],
   "source": [
    "from sklearn.svm import SVC\n",
    "\n",
    "# Define the parameter grid for SVM\n",
    "param_grid_svm = {\n",
    "    'C': [0.1, 1, 10, 100],  # Regularization parameter\n",
    "    'kernel': ['linear', 'rbf', 'poly'],  # Kernel types\n",
    "    'gamma': ['scale', 'auto']  # Kernel coefficient\n",
    "}\n",
    "\n",
    "# Initialize the GridSearchCV object for SVM\n",
    "grid_svm = GridSearchCV(SVC(), param_grid_svm, cv=5, scoring='accuracy', verbose=1)\n",
    "grid_svm.fit(X_train, y_train)\n",
    "\n",
    "# Output the best parameters and the best score\n",
    "print(\"Best parameters for SVM:\", grid_svm.best_params_)\n",
    "print(\"Best cross-validation score: {:.2f}\".format(grid_svm.best_score_))"
   ]
  },
  {
   "cell_type": "markdown",
   "id": "c33caae6-1397-4e55-be68-e93a20145165",
   "metadata": {},
   "source": [
    "##### Decision Tree Hyperparameter Tuning"
   ]
  },
  {
   "cell_type": "code",
   "execution_count": 105,
   "id": "e03fcd0d-8e02-480a-835c-99978be2ad56",
   "metadata": {},
   "outputs": [
    {
     "name": "stdout",
     "output_type": "stream",
     "text": [
      "Fitting 5 folds for each of 72 candidates, totalling 360 fits\n",
      "Best parameters for Decision Tree: {'criterion': 'gini', 'max_depth': 10, 'min_samples_leaf': 2, 'min_samples_split': 5}\n",
      "Best cross-validation score: 0.80\n"
     ]
    }
   ],
   "source": [
    "from sklearn.tree import DecisionTreeClassifier\n",
    "\n",
    "# Define the parameter grid for Decision Tree\n",
    "param_grid_dt = {\n",
    "    'max_depth': [None, 10, 20, 30],\n",
    "    'min_samples_split': [2, 5, 10],\n",
    "    'min_samples_leaf': [1, 2, 4],\n",
    "    'criterion': ['gini', 'entropy']\n",
    "}\n",
    "\n",
    "# Initialize the GridSearchCV object for Decision Tree\n",
    "grid_dt = GridSearchCV(DecisionTreeClassifier(), param_grid_dt, cv=5, scoring='accuracy', verbose=1)\n",
    "grid_dt.fit(X_train, y_train)\n",
    "\n",
    "# Output the best parameters and the best score\n",
    "print(\"Best parameters for Decision Tree:\", grid_dt.best_params_)\n",
    "print(\"Best cross-validation score: {:.2f}\".format(grid_dt.best_score_))\n"
   ]
  },
  {
   "cell_type": "markdown",
   "id": "15875cc0-f6f5-4439-97cd-9b1f72e58427",
   "metadata": {},
   "source": [
    "##### Naive Bayes Tuning"
   ]
  },
  {
   "cell_type": "code",
   "execution_count": 106,
   "id": "b8066aeb-f26b-4ec7-9d74-9876917820fe",
   "metadata": {},
   "outputs": [
    {
     "name": "stdout",
     "output_type": "stream",
     "text": [
      "Fitting 5 folds for each of 5 candidates, totalling 25 fits\n",
      "Best parameters for Naive Bayes: {'alpha': 0.1}\n",
      "Best cross-validation score: 0.81\n"
     ]
    }
   ],
   "source": [
    "from sklearn.naive_bayes import MultinomialNB\n",
    "from sklearn.model_selection import GridSearchCV\n",
    "\n",
    "# Define the parameter grid for Multinomial Naive Bayes\n",
    "param_grid_nb = {\n",
    "    'alpha': [0.01, 0.1, 1, 10, 100]  # Smoothing parameter\n",
    "}\n",
    "\n",
    "# Initialize the GridSearchCV object for Naive Bayes\n",
    "grid_nb = GridSearchCV(MultinomialNB(), param_grid_nb, cv=5, scoring='accuracy', verbose=1)\n",
    "grid_nb.fit(X_train, y_train)\n",
    "\n",
    "# Output the best parameters and the best score\n",
    "print(\"Best parameters for Naive Bayes:\", grid_nb.best_params_)\n",
    "print(\"Best cross-validation score: {:.2f}\".format(grid_nb.best_score_))\n"
   ]
  },
  {
   "cell_type": "markdown",
   "id": "c83145d6-c6a2-4209-a258-f7b18fb56224",
   "metadata": {},
   "source": [
    "#### Comparison\n",
    "Lets compare best parameters of all models."
   ]
  },
  {
   "cell_type": "code",
   "execution_count": 107,
   "id": "0747d572-f3b7-4317-bf50-9d3d0c9c34a5",
   "metadata": {},
   "outputs": [],
   "source": [
    "from sklearn.metrics import accuracy_score, precision_score, recall_score, f1_score\n",
    "import matplotlib.pyplot as plt\n",
    "\n",
    "# Create a dictionary to store the metrics\n",
    "model_metrics = {\n",
    "    'Model': ['Logistic Regression', 'SVM', 'Decision Tree', 'Naive Bayes'],\n",
    "    'Accuracy': [],\n",
    "    'Precision': [],\n",
    "    'Recall': [],\n",
    "    'F1-Score': []\n",
    "}\n",
    "\n",
    "# Evaluate each model and store the metrics\n",
    "models = [grid_log_reg.best_estimator_, grid_svm.best_estimator_, grid_dt.best_estimator_, grid_nb.best_estimator_]\n",
    "for model, name in zip(models, model_metrics['Model']):\n",
    "    y_pred = model.predict(X_test)\n",
    "    model_metrics['Accuracy'].append(accuracy_score(y_test, y_pred))\n",
    "    model_metrics['Precision'].append(precision_score(y_test, y_pred, average='weighted'))\n",
    "    model_metrics['Recall'].append(recall_score(y_test, y_pred, average='weighted'))\n",
    "    model_metrics['F1-Score'].append(f1_score(y_test, y_pred, average='weighted'))\n",
    "\n",
    "# Convert metrics to DataFrame for easier plotting\n",
    "import pandas as pd\n",
    "metrics_df = pd.DataFrame(model_metrics)\n"
   ]
  },
  {
   "cell_type": "code",
   "execution_count": 109,
   "id": "1b39f6cb-9c69-4768-bd26-01a75349085a",
   "metadata": {},
   "outputs": [
    {
     "data": {
      "image/png": "[encoded data removed]",
      "text/plain": [
       "<Figure size 1200x800 with 1 Axes>"
      ]
     },
     "metadata": {},
     "output_type": "display_data"
    }
   ],
   "source": [
    "# Set the plot size\n",
    "plt.figure(figsize=(12, 8))\n",
    "\n",
    "# Number of models\n",
    "n_models = len(metrics_df)\n",
    "index = range(n_models)\n",
    "\n",
    "# Plotting\n",
    "bar_width = 0.2\n",
    "for i, metric in enumerate(['Accuracy', 'Precision', 'Recall', 'F1-Score']):\n",
    "    plt.bar([p + bar_width*i for p in index],\n",
    "            metrics_df[metric],\n",
    "            bar_width,\n",
    "            label=metric)\n",
    "\n",
    "plt.xlabel('Model')\n",
    "plt.ylabel('Scores')\n",
    "plt.title('Model Comparison')\n",
    "plt.xticks([p + bar_width for p in index], metrics_df['Model'])\n",
    "plt.legend()\n",
    "\n",
    "plt.tight_layout()\n",
    "plt.show()\n"
   ]
  },
  {
   "cell_type": "code",
   "execution_count": null,
   "id": "c982af1c-a1be-4f07-a7a3-08d4c14d5931",
   "metadata": {},
   "outputs": [],
   "source": [
    "\n"
   ]
  },
  {
   "cell_type": "markdown",
   "id": "66f45610-df32-48d0-9b74-ea58eb284143",
   "metadata": {},
   "source": [
    "#### **Child tag**\n",
    "Now lets build model for Child tags."
   ]
  },
  {
   "cell_type": "markdown",
   "id": "727d72e7-d7a3-4297-95cc-c85c3c928b02",
   "metadata": {},
   "source": [
    "##### Divide data based on parent tags"
   ]
  },
  {
   "cell_type": "code",
   "execution_count": 82,
   "id": "f82f82ff-53b2-43c0-98e2-f431163a93aa",
   "metadata": {},
   "outputs": [],
   "source": [
    "# Filter data for \"Incident\" parent tag\n",
    "incident_data = data[data['Parent Tags'] == 'Incident']\n",
    "X_incident = tfidf_vectorizer.transform(incident_data['combined_text'])\n",
    "y_incident = incident_data['Child New Tags']\n",
    "\n",
    "# Filter data for \"Service Request\" parent tag\n",
    "service_request_data = data[data['Parent Tags'] == 'Service Request']\n",
    "X_service_request = tfidf_vectorizer.transform(service_request_data['combined_text'])\n",
    "y_service_request = service_request_data['Child New Tags']\n"
   ]
  },
  {
   "cell_type": "markdown",
   "id": "1697265b-3d36-4c90-8daf-68b8a5fec864",
   "metadata": {},
   "source": [
    "##### Split"
   ]
  },
  {
   "cell_type": "code",
   "execution_count": 83,
   "id": "7fa99824-4a1a-4ed2-b308-ef89d53735e9",
   "metadata": {},
   "outputs": [],
   "source": [
    "# Split data for \"Incident\" classification\n",
    "X_train_inc, X_test_inc, y_train_inc, y_test_inc = train_test_split(X_incident, y_incident, test_size=0.2, random_state=42)\n",
    "\n",
    "# Split data for \"Service Request\" classification\n",
    "X_train_sr, X_test_sr, y_train_sr, y_test_sr = train_test_split(X_service_request, y_service_request, test_size=0.2, random_state=42)\n"
   ]
  },
  {
   "cell_type": "markdown",
   "id": "de1a18b1-9a60-4dcd-b8af-068cc77899cc",
   "metadata": {},
   "source": [
    "##### Default Algorithms performance\n",
    "We will use **Logistic Regression** and SVM for second level classification as they performed the best "
   ]
  },
  {
   "cell_type": "markdown",
   "id": "172e24a6-d4e1-45e7-8cec-816077a05ff7",
   "metadata": {},
   "source": [
    "Logistic regression"
   ]
  },
  {
   "cell_type": "code",
   "execution_count": 84,
   "id": "5fe680ea-e8a4-48be-882a-b553c62a657c",
   "metadata": {},
   "outputs": [
    {
     "name": "stdout",
     "output_type": "stream",
     "text": [
      "Classification Report for 'Incident' Parent Tag:\n",
      "                   precision    recall  f1-score   support\n",
      "\n",
      "integration issue       0.90      0.87      0.89        54\n",
      "   platform issue       0.74      0.80      0.77        25\n",
      "\n",
      "         accuracy                           0.85        79\n",
      "        macro avg       0.82      0.84      0.83        79\n",
      "     weighted avg       0.85      0.85      0.85        79\n",
      "\n",
      "Classification Report for 'Service Request' Parent Tag:\n",
      "              precision    recall  f1-score   support\n",
      "\n",
      " user access       0.81      0.76      0.79       155\n",
      "   user help       0.74      0.79      0.76       130\n",
      "\n",
      "    accuracy                           0.78       285\n",
      "   macro avg       0.77      0.78      0.77       285\n",
      "weighted avg       0.78      0.78      0.78       285\n",
      "\n"
     ]
    }
   ],
   "source": [
    "# Train model for \"Incident\" classification\n",
    "log_reg_inc = LogisticRegression(random_state=42)\n",
    "log_reg_inc.fit(X_train_inc, y_train_inc)\n",
    "predictions_inc = log_reg_inc.predict(X_test_inc)\n",
    "print(\"Classification Report for 'Incident' Parent Tag:\")\n",
    "print(classification_report(y_test_inc, predictions_inc))\n",
    "\n",
    "# Train model for \"Service Request\" classification\n",
    "log_reg_sr = LogisticRegression(random_state=42)\n",
    "log_reg_sr.fit(X_train_sr, y_train_sr)\n",
    "predictions_sr = log_reg_sr.predict(X_test_sr)\n",
    "print(\"Classification Report for 'Service Request' Parent Tag:\")\n",
    "print(classification_report(y_test_sr, predictions_sr))\n"
   ]
  },
  {
   "cell_type": "markdown",
   "id": "22df0e3f-9c8b-4ef3-acb0-38a715079842",
   "metadata": {},
   "source": [
    "SVM"
   ]
  },
  {
   "cell_type": "code",
   "execution_count": 85,
   "id": "d55590eb-ed57-49c7-a7a6-a37df4ebd662",
   "metadata": {},
   "outputs": [
    {
     "name": "stdout",
     "output_type": "stream",
     "text": [
      "SVM Classification Report for 'Incident' Parent Tag:\n",
      "                   precision    recall  f1-score   support\n",
      "\n",
      "integration issue       0.96      0.89      0.92        54\n",
      "   platform issue       0.79      0.92      0.85        25\n",
      "\n",
      "         accuracy                           0.90        79\n",
      "        macro avg       0.88      0.90      0.89        79\n",
      "     weighted avg       0.91      0.90      0.90        79\n",
      "\n",
      "SVM Classification Report for 'Service Request' Parent Tag:\n",
      "              precision    recall  f1-score   support\n",
      "\n",
      " user access       0.81      0.81      0.81       155\n",
      "   user help       0.77      0.78      0.77       130\n",
      "\n",
      "    accuracy                           0.79       285\n",
      "   macro avg       0.79      0.79      0.79       285\n",
      "weighted avg       0.79      0.79      0.79       285\n",
      "\n"
     ]
    }
   ],
   "source": [
    "from sklearn.svm import SVC\n",
    "from sklearn.metrics import classification_report\n",
    "\n",
    "# Train SVM for \"Incident\" classification\n",
    "svm_inc = SVC(kernel='linear', random_state=42)  \n",
    "svm_inc.fit(X_train_inc, y_train_inc)\n",
    "predictions_inc_svm = svm_inc.predict(X_test_inc)\n",
    "print(\"SVM Classification Report for 'Incident' Parent Tag:\")\n",
    "print(classification_report(y_test_inc, predictions_inc_svm))\n",
    "\n",
    "# Train SVM for \"Service Request\" classification\n",
    "svm_sr = SVC(kernel='linear', random_state=42)\n",
    "svm_sr.fit(X_train_sr, y_train_sr)\n",
    "predictions_sr_svm = svm_sr.predict(X_test_sr)\n",
    "print(\"SVM Classification Report for 'Service Request' Parent Tag:\")\n",
    "print(classification_report(y_test_sr, predictions_sr_svm))\n"
   ]
  },
  {
   "cell_type": "markdown",
   "id": "5c99bad6-83ee-4270-95de-589d68927f1a",
   "metadata": {},
   "source": [
    "##### Hyperparameter Tuning for Logistic Regression"
   ]
  },
  {
   "cell_type": "markdown",
   "id": "86683da9-dced-47f9-87dd-a7362c9260b6",
   "metadata": {},
   "source": [
    "For \"Incident\" Parent Tag"
   ]
  },
  {
   "cell_type": "code",
   "execution_count": 86,
   "id": "489eca5b-b20a-4b0f-b49e-daa9d51b9626",
   "metadata": {},
   "outputs": [
    {
     "name": "stdout",
     "output_type": "stream",
     "text": [
      "Fitting 5 folds for each of 10 candidates, totalling 50 fits\n",
      "Best parameters for Logistic Regression (Incident): {'C': 10, 'penalty': 'l2', 'solver': 'liblinear'}\n",
      "Best cross-validation score for Logistic Regression (Incident): 0.83\n"
     ]
    }
   ],
   "source": [
    "from sklearn.model_selection import GridSearchCV\n",
    "\n",
    "# Define the parameter grid for Logistic Regression\n",
    "param_grid_log_reg_inc = {\n",
    "    'C': [0.01, 0.1, 1, 10, 100],  # Regularization strength\n",
    "    'solver': ['liblinear', 'lbfgs'],  # Solvers for small datasets\n",
    "    'penalty': ['l2']  # L2 regularization\n",
    "}\n",
    "\n",
    "\n",
    "# Initialize and fit GridSearchCV for \"Incident\"\n",
    "grid_log_reg_inc = GridSearchCV(LogisticRegression(random_state=42), param_grid_log_reg_inc, cv=5, scoring='accuracy', verbose=1)\n",
    "grid_log_reg_inc.fit(X_train_inc, y_train_inc)\n",
    "\n",
    "# Output the best parameters and score\n",
    "print(\"Best parameters for Logistic Regression (Incident):\", grid_log_reg_inc.best_params_)\n",
    "print(\"Best cross-validation score for Logistic Regression (Incident): {:.2f}\".format(grid_log_reg_inc.best_score_))\n"
   ]
  },
  {
   "cell_type": "markdown",
   "id": "71b7f987-62bf-456e-8f6a-a9f994d76ba0",
   "metadata": {},
   "source": [
    "service request"
   ]
  },
  {
   "cell_type": "code",
   "execution_count": 87,
   "id": "71be028d-97f5-4614-a836-3ab4f1f06b30",
   "metadata": {},
   "outputs": [
    {
     "name": "stdout",
     "output_type": "stream",
     "text": [
      "Fitting 5 folds for each of 10 candidates, totalling 50 fits\n",
      "Best parameters for Logistic Regression (Service Request): {'C': 10, 'penalty': 'l2', 'solver': 'lbfgs'}\n",
      "Best cross-validation score for Logistic Regression (Service Request): 0.82\n"
     ]
    }
   ],
   "source": [
    "param_grid_log_reg_sr = param_grid_log_reg_inc  # Using the same grid\n",
    "\n",
    "# Initialize and fit GridSearchCV for \"Service Request\"\n",
    "grid_log_reg_sr = GridSearchCV(LogisticRegression(random_state=42), param_grid_log_reg_sr, cv=5, scoring='accuracy', verbose=1)\n",
    "grid_log_reg_sr.fit(X_train_sr, y_train_sr)\n",
    "\n",
    "# Output the best parameters and score\n",
    "print(\"Best parameters for Logistic Regression (Service Request):\", grid_log_reg_sr.best_params_)\n",
    "print(\"Best cross-validation score for Logistic Regression (Service Request): {:.2f}\".format(grid_log_reg_sr.best_score_))\n"
   ]
  },
  {
   "cell_type": "markdown",
   "id": "76eb10c4-9a55-4449-8227-ae16e9f09aaf",
   "metadata": {},
   "source": [
    "##### Hyperparameter Tuning for SVM"
   ]
  },
  {
   "cell_type": "markdown",
   "id": "a7c265a4-4b3c-4ce6-b3a6-f4f34d6496ca",
   "metadata": {},
   "source": [
    "For \"Incident\" Parent Tag"
   ]
  },
  {
   "cell_type": "code",
   "execution_count": 88,
   "id": "11b7130e-d64f-437a-acd8-11994cf3e77c",
   "metadata": {},
   "outputs": [
    {
     "name": "stdout",
     "output_type": "stream",
     "text": [
      "Fitting 5 folds for each of 16 candidates, totalling 80 fits\n",
      "Best parameters for SVM (Incident): {'C': 1, 'gamma': 'scale', 'kernel': 'linear'}\n",
      "Best cross-validation score for SVM (Incident): 0.83\n"
     ]
    }
   ],
   "source": [
    "# Define the parameter grid for SVM\n",
    "param_grid_svm_inc = {\n",
    "    'C': [0.1, 1, 10, 100],  # Regularization parameter\n",
    "    'kernel': ['linear', 'rbf'],  # Linear and RBF kernels\n",
    "    'gamma': ['scale', 'auto']  # Kernel coefficient\n",
    "}\n",
    "\n",
    "\n",
    "# Initialize and fit GridSearchCV for \"Incident\"\n",
    "grid_svm_inc = GridSearchCV(SVC(random_state=42), param_grid_svm_inc, cv=5, scoring='accuracy', verbose=1)\n",
    "grid_svm_inc.fit(X_train_inc, y_train_inc)\n",
    "\n",
    "# Output the best parameters and score\n",
    "print(\"Best parameters for SVM (Incident):\", grid_svm_inc.best_params_)\n",
    "print(\"Best cross-validation score for SVM (Incident): {:.2f}\".format(grid_svm_inc.best_score_))\n"
   ]
  },
  {
   "cell_type": "markdown",
   "id": "7a11802e-62b7-4950-92c3-0e95383aa607",
   "metadata": {},
   "source": [
    "For \"Service Request\" Parent Tag"
   ]
  },
  {
   "cell_type": "code",
   "execution_count": 89,
   "id": "21057e24-50a2-434b-8413-f5dde09f583d",
   "metadata": {},
   "outputs": [
    {
     "name": "stdout",
     "output_type": "stream",
     "text": [
      "Fitting 5 folds for each of 16 candidates, totalling 80 fits\n",
      "Best parameters for SVM (Service Request): {'C': 1, 'gamma': 'scale', 'kernel': 'linear'}\n",
      "Best cross-validation score for SVM (Service Request): 0.81\n"
     ]
    }
   ],
   "source": [
    "param_grid_svm_sr = param_grid_svm_inc  # Using the same grid\n",
    "\n",
    "# Initialize and fit GridSearchCV for \"Service Request\"\n",
    "grid_svm_sr = GridSearchCV(SVC(random_state=42), param_grid_svm_sr, cv=5, scoring='accuracy', verbose=1)\n",
    "grid_svm_sr.fit(X_train_sr, y_train_sr)\n",
    "\n",
    "# Output the best parameters and score\n",
    "print(\"Best parameters for SVM (Service Request):\", grid_svm_sr.best_params_)\n",
    "print(\"Best cross-validation score for SVM (Service Request): {:.2f}\".format(grid_svm_sr.best_score_))\n"
   ]
  },
  {
   "cell_type": "markdown",
   "id": "5bd14746-93e8-4f2c-81d4-93d2d6f0dd6f",
   "metadata": {},
   "source": [
    "Collect Metrics for Child Classification"
   ]
  },
  {
   "cell_type": "code",
   "execution_count": 90,
   "id": "29dca8cc-20f8-46fe-8305-4d9d29e4e2be",
   "metadata": {},
   "outputs": [],
   "source": [
    "# Retrieve the best models after GridSearchCV\n",
    "best_log_reg_inc = grid_log_reg_inc.best_estimator_\n",
    "best_log_reg_sr = grid_log_reg_sr.best_estimator_\n",
    "best_svm_inc = grid_svm_inc.best_estimator_\n",
    "best_svm_sr = grid_svm_sr.best_estimator_\n"
   ]
  },
  {
   "cell_type": "code",
   "execution_count": 91,
   "id": "d52e2159-93fe-4f9f-a883-1600924c9c79",
   "metadata": {},
   "outputs": [],
   "source": [
    "from sklearn.metrics import accuracy_score, precision_score, recall_score, f1_score\n",
    "import pandas as pd\n",
    "import matplotlib.pyplot as plt\n",
    "\n",
    "# Define dictionaries to hold metrics\n",
    "metrics_incident = {'Model': ['Logistic Regression', 'SVM'], 'Accuracy': [], 'Precision': [], 'Recall': [], 'F1-Score': []}\n",
    "metrics_service_request = {'Model': ['Logistic Regression', 'SVM'], 'Accuracy': [], 'Precision': [], 'Recall': [], 'F1-Score': []}\n",
    "\n",
    "# Incident metrics\n",
    "models_incident = [best_log_reg_inc, best_svm_inc]\n",
    "for model in models_incident:\n",
    "    predictions = model.predict(X_test_inc)\n",
    "    metrics_incident['Accuracy'].append(accuracy_score(y_test_inc, predictions))\n",
    "    metrics_incident['Precision'].append(precision_score(y_test_inc, predictions, average='weighted'))\n",
    "    metrics_incident['Recall'].append(recall_score(y_test_inc, predictions, average='weighted'))\n",
    "    metrics_incident['F1-Score'].append(f1_score(y_test_inc, predictions, average='weighted'))\n",
    "\n",
    "# Service Request metrics\n",
    "models_service_request = [best_log_reg_sr, best_svm_sr]\n",
    "for model in models_service_request:\n",
    "    predictions = model.predict(X_test_sr)\n",
    "    metrics_service_request['Accuracy'].append(accuracy_score(y_test_sr, predictions))\n",
    "    metrics_service_request['Precision'].append(precision_score(y_test_sr, predictions, average='weighted'))\n",
    "    metrics_service_request['Recall'].append(recall_score(y_test_sr, predictions, average='weighted'))\n",
    "    metrics_service_request['F1-Score'].append(f1_score(y_test_sr, predictions, average='weighted'))\n",
    "\n",
    "# Convert to DataFrame for easier visualization\n",
    "df_incident = pd.DataFrame(metrics_incident)\n",
    "df_service_request = pd.DataFrame(metrics_service_request)\n"
   ]
  },
  {
   "cell_type": "markdown",
   "id": "0e14b300-4f79-4961-9b9d-e30937767ced",
   "metadata": {},
   "source": [
    "##### Plot the Metrics"
   ]
  },
  {
   "cell_type": "code",
   "execution_count": 92,
   "id": "da3cee46-b207-4bd4-b2fb-63a3da9e0d3c",
   "metadata": {},
   "outputs": [
    {
     "data": {
      "image/png": "[encoded data removed]",
      "text/plain": [
       "<Figure size 1000x600 with 1 Axes>"
      ]
     },
     "metadata": {},
     "output_type": "display_data"
    },
    {
     "data": {
      "image/png": "[encoded data removed]",
      "text/plain": [
       "<Figure size 1000x600 with 1 Axes>"
      ]
     },
     "metadata": {},
     "output_type": "display_data"
    }
   ],
   "source": [
    "# Visualization for \"Incident\" classification\n",
    "plt.figure(figsize=(10, 6))\n",
    "bar_width = 0.2\n",
    "index = range(len(df_incident))\n",
    "\n",
    "for i, metric in enumerate(['Accuracy', 'Precision', 'Recall', 'F1-Score']):\n",
    "    bars = plt.bar([x + bar_width * i for x in index], df_incident[metric], bar_width, label=metric)\n",
    "    # Add score text on top of bars\n",
    "    for bar in bars:\n",
    "        plt.text(bar.get_x() + bar.get_width() / 2, bar.get_height() + 0.01, f'{bar.get_height():.2f}', ha='center')\n",
    "\n",
    "plt.xlabel('Model')\n",
    "plt.ylabel('Scores')\n",
    "plt.title('Model Comparison for Incident Classification')\n",
    "plt.xticks([x + bar_width * 1.5 for x in index], df_incident['Model'])\n",
    "plt.legend()\n",
    "plt.tight_layout()\n",
    "plt.show()\n",
    "\n",
    "# Visualization for \"Service Request\" classification\n",
    "plt.figure(figsize=(10, 6))\n",
    "index = range(len(df_service_request))\n",
    "\n",
    "for i, metric in enumerate(['Accuracy', 'Precision', 'Recall', 'F1-Score']):\n",
    "    bars = plt.bar([x + bar_width * i for x in index], df_service_request[metric], bar_width, label=metric)\n",
    "    # Add score text on top of bars\n",
    "    for bar in bars:\n",
    "        plt.text(bar.get_x() + bar.get_width() / 2, bar.get_height() + 0.01, f'{bar.get_height():.2f}', ha='center')\n",
    "\n",
    "plt.xlabel('Model')\n",
    "plt.ylabel('Scores')\n",
    "plt.title('Model Comparison for Service Request Classification')\n",
    "plt.xticks([x + bar_width * 1.5 for x in index], df_service_request['Model'])\n",
    "plt.legend()\n",
    "plt.tight_layout()\n",
    "plt.show()\n"
   ]
  },
  {
   "cell_type": "markdown",
   "id": "26285418-b64e-4fdd-a06d-fd51647df8b1",
   "metadata": {},
   "source": [
    "##### Save the Models "
   ]
  },
  {
   "cell_type": "code",
   "execution_count": 93,
   "id": "d6c4ac0b-8e79-4094-ab5d-f8fefc7f0dd3",
   "metadata": {},
   "outputs": [
    {
     "data": {
      "text/plain": [
       "['service_request_child_model_svm.pkl']"
      ]
     },
     "execution_count": 93,
     "metadata": {},
     "output_type": "execute_result"
    }
   ],
   "source": [
    "import joblib\n",
    "\n",
    "# Save the parent tag model\n",
    "joblib.dump(grid_log_reg.best_estimator_, 'parent_tag_model_reg.pkl')\n",
    "joblib.dump(grid_svm.best_estimator_, 'parent_tag_model_svm.pkl')\n",
    "# Save the child tag models\n",
    "joblib.dump(best_log_reg_inc, 'incident_child_model_reg.pkl')\n",
    "joblib.dump(best_log_reg_sr, 'service_request_child_model_reg.pkl')\n",
    "joblib.dump(best_svm_inc, 'incident_child_model_svm.pkl')\n",
    "joblib.dump(best_svm_sr, 'service_request_child_model_svm.pkl')"
   ]
  },
  {
   "cell_type": "code",
   "execution_count": null,
   "id": "6c9caf93-75af-4823-b11e-1da579bdefcb",
   "metadata": {},
   "outputs": [],
   "source": []
  },
  {
   "cell_type": "markdown",
   "id": "175cac83-ac5b-4bb4-9b4d-16fe8343f348",
   "metadata": {},
   "source": [
    "#### Model Testing\n",
    "Lets test the model with Unseen data . Sinbce **Logistic Regression** preformed better, we will use that."
   ]
  },
  {
   "cell_type": "markdown",
   "id": "2ca3a4d8-52a7-4a79-bee6-97284f50b145",
   "metadata": {},
   "source": [
    "Load unseen data"
   ]
  },
  {
   "cell_type": "code",
   "execution_count": 124,
   "id": "d7142954-186c-4f1d-826d-aca9821c7236",
   "metadata": {},
   "outputs": [],
   "source": [
    "# Load unseen data\n",
    "unseen_data = pd.read_excel('test_data.xlsx')  \n",
    "\n",
    "# Combine text columns\n",
    "unseen_data['combined_text'] = (\n",
    "    unseen_data['Short description'].fillna('') + ' ' +\n",
    "    unseen_data['Description'].fillna('')\n",
    ")\n",
    "\n",
    "# Clean the text\n",
    "unseen_data['combined_text'] = unseen_data['combined_text'].str.lower()\n",
    "unseen_data['combined_text'] = unseen_data['combined_text'].str.replace('[^\\w\\s]', '', regex=True)\n",
    "unseen_data['combined_text'] = unseen_data['combined_text'].str.replace('\\d+', '', regex=True)\n",
    "\n",
    "# Transform the text using the existing TF-IDF vectorizer\n",
    "X_unseen = tfidf_vectorizer.transform(unseen_data['combined_text'])\n",
    "\n"
   ]
  },
  {
   "cell_type": "markdown",
   "id": "c7cb52ba-c33f-4606-bc5c-5b6e3a1da820",
   "metadata": {},
   "source": [
    "Load Models for **Logistic regression**"
   ]
  },
  {
   "cell_type": "code",
   "execution_count": 125,
   "id": "aaa660b6-4d1f-457c-9959-0e502a920f7e",
   "metadata": {},
   "outputs": [],
   "source": [
    "import joblib\n",
    "\n",
    "# Load the parent tag and child tag models\n",
    "parent_tag_model = joblib.load('parent_tag_model_reg.pkl')\n",
    "incident_child_model = joblib.load('incident_child_model_reg.pkl')\n",
    "service_request_child_model = joblib.load('service_request_child_model_reg.pkl')\n"
   ]
  },
  {
   "cell_type": "markdown",
   "id": "ad6e2e39-18e0-4676-9770-709537d6c4bd",
   "metadata": {},
   "source": [
    "##### Predict parent tags"
   ]
  },
  {
   "cell_type": "code",
   "execution_count": 126,
   "id": "f4dbc9b4-d7c9-4f07-8471-d6d4021fa3e8",
   "metadata": {},
   "outputs": [],
   "source": [
    "# Predict parent tags\n",
    "unseen_data['Parent Tag Prediction'] = parent_tag_model.predict(X_unseen)\n"
   ]
  },
  {
   "cell_type": "markdown",
   "id": "dace9373-692c-4337-a8ae-7f7a08eb4fdc",
   "metadata": {},
   "source": [
    "##### Predict Child Tags Based on Parent Tag"
   ]
  },
  {
   "cell_type": "code",
   "execution_count": 127,
   "id": "e28c85bc-a7fe-4d86-9708-b19296128703",
   "metadata": {},
   "outputs": [],
   "source": [
    "# Function to predict child tags\n",
    "def predict_child_tags(row):\n",
    "    text_vectorized = tfidf_vectorizer.transform([row['combined_text']])\n",
    "    if row['Parent Tag Prediction'] == 'Incident':\n",
    "        return incident_child_model.predict(text_vectorized)[0]\n",
    "    elif row['Parent Tag Prediction'] == 'Service Request':\n",
    "        return service_request_child_model.predict(text_vectorized)[0]\n",
    "    else:\n",
    "        return \"Unknown\"\n",
    "\n",
    "# Apply the function to predict child tags\n",
    "unseen_data['Child Tag Prediction'] = unseen_data.apply(predict_child_tags, axis=1)\n"
   ]
  },
  {
   "cell_type": "markdown",
   "id": "a5447c62-e33e-4621-8bb3-999d63571cca",
   "metadata": {},
   "source": [
    "##### Review Results"
   ]
  },
  {
   "cell_type": "code",
   "execution_count": 128,
   "id": "20dd751d-db7c-4c8a-87fd-fd1463682843",
   "metadata": {},
   "outputs": [
    {
     "name": "stdout",
     "output_type": "stream",
     "text": [
      "Parent Tag Classification Report:\n",
      "                 precision    recall  f1-score   support\n",
      "\n",
      "       Incident       0.77      0.70      0.73        86\n",
      "Service Request       0.85      0.89      0.87       164\n",
      "\n",
      "       accuracy                           0.82       250\n",
      "      macro avg       0.81      0.79      0.80       250\n",
      "   weighted avg       0.82      0.82      0.82       250\n",
      "\n",
      "Parent Tag Accuracy: 0.82\n",
      "\n",
      "Child Tag Classification Report:\n",
      "                   precision    recall  f1-score   support\n",
      "\n",
      "integration issue       0.69      0.64      0.67        56\n",
      "   platform issue       0.54      0.47      0.50        30\n",
      "      user access       0.79      0.68      0.73        82\n",
      "        user help       0.60      0.74      0.67        82\n",
      "\n",
      "         accuracy                           0.67       250\n",
      "        macro avg       0.66      0.63      0.64       250\n",
      "     weighted avg       0.68      0.67      0.67       250\n",
      "\n",
      "Child Tag Accuracy: 0.67\n"
     ]
    }
   ],
   "source": [
    "from sklearn.metrics import classification_report, accuracy_score\n",
    "\n",
    "# Evaluate parent tag predictions\n",
    "print(\"Parent Tag Classification Report:\")\n",
    "parent_report = classification_report(unseen_data['Parent Tags'], unseen_data['Parent Tag Prediction'])\n",
    "print(parent_report)\n",
    "\n",
    "# Calculate overall accuracy for parent tags\n",
    "parent_accuracy = accuracy_score(unseen_data['Parent Tags'], unseen_data['Parent Tag Prediction'])\n",
    "print(f\"Parent Tag Accuracy: {parent_accuracy:.2f}\")\n",
    "\n",
    "# Evaluate child tag predictions\n",
    "print(\"\\nChild Tag Classification Report:\")\n",
    "child_report = classification_report(unseen_data['Child New Tags'], unseen_data['Child Tag Prediction'])\n",
    "print(child_report)\n",
    "\n",
    "# Calculate overall accuracy for child tags\n",
    "child_accuracy = accuracy_score(unseen_data['Child New Tags'], unseen_data['Child Tag Prediction'])\n",
    "print(f\"Child Tag Accuracy: {child_accuracy:.2f}\")\n",
    "\n"
   ]
  },
  {
   "cell_type": "code",
   "execution_count": null,
   "id": "f1e386d4-fe88-4fe5-99d4-34f7e18f2679",
   "metadata": {},
   "outputs": [],
   "source": []
  }
 ],
 "metadata": {
  "kernelspec": {
   "display_name": "Python 3 (ipykernel)",
   "language": "python",
   "name": "python3"
  },
  "language_info": {
   "codemirror_mode": {
    "name": "ipython",
    "version": 3
   },
   "file_extension": ".py",
   "mimetype": "text/x-python",
   "name": "python",
   "nbconvert_exporter": "python",
   "pygments_lexer": "ipython3",
   "version": "3.11.9"
  }
 },
 "nbformat": 4,
 "nbformat_minor": 5
}
